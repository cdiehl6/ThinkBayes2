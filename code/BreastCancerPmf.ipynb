{
 "metadata": {
  "name": "",
  "signature": "sha256:1f689976f10252d287bd9438dd4dc07f2f4c64d4ac0a4fb9ebe503233037eb39"
 },
 "nbformat": 3,
 "nbformat_minor": 0,
 "worksheets": [
  {
   "cells": [
    {
     "cell_type": "code",
     "collapsed": false,
     "input": [
      "import thinkbayes2\n",
      "import thinkplot"
     ],
     "language": "python",
     "metadata": {},
     "outputs": [],
     "prompt_number": 1
    },
    {
     "cell_type": "code",
     "collapsed": false,
     "input": [],
     "language": "python",
     "metadata": {},
     "outputs": []
    }
   ],
   "metadata": {}
  }
 ]
}