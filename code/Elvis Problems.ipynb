{
 "metadata": {
  "name": "",
  "signature": "sha256:89c40a3ce3261385a61e57ca4bf0ca2d8667350a4751b5ff58ad54f9a4b4db67"
 },
 "nbformat": 3,
 "nbformat_minor": 0,
 "worksheets": [
  {
   "cells": [
    {
     "cell_type": "code",
     "collapsed": false,
     "input": [
      "\"\"\"\n",
      "Elvis Problems:\n",
      "\n",
      "1: Friend saw Elvis at the Piggly Wiggly\n",
      "\n",
      "A: Elvis is dead.\n",
      "B: Elvis is alive.\n",
      "These must be mutually exclusive and collectivly exhaustive. Originally this was posed as Elvis is alive and your friend\n",
      "saw him and Elvis is dead and your friend is hallucinating. This is bad because it does not take into account that Elvis\n",
      "is alive but wasn't at the Piggly Wiggly\n",
      "\n",
      "D: Your friend says that they saw Elvis at the Piggly Wiggly\n",
      "\n",
      "P(A)=10^-3\n",
      "P(D|A)=t+f\n",
      "P(D|B)=f\n",
      "\n",
      "-----------------------------------------\n",
      "  1/1000 | 1+(t/f) |  1/1000  | \n",
      "999/1000 |    1    | 999/1000 | \n",
      "-----------------------------------------\n",
      "\"\"\""
     ],
     "language": "python",
     "metadata": {},
     "outputs": [
      {
       "metadata": {},
       "output_type": "pyout",
       "prompt_number": 1,
       "text": [
        "\"\\nElvis Problems:\\n\\n1: Friend saw Elvis at the Piggly Wiggly\\n\\nA: Elvis is dead.\\nB: Elvis is alive.\\nThese must be mutually exclusive and collectivly exhaustive. Originally this was posed as Elvis is alive and your friend\\nsaw him and Elvis is dead and your friend is hallucinating. This is bad because it does not take into account that Elvis\\nis alive but wasn't at the Piggly Wiggly\\n\\nD: Your friend says that they saw Elvis at the Piggly Wiggly\\n\\nP(A)=10^-3\\nP(D|A)=t+f\\nP(D|B)=f\\n\\n-----------------------------------------\\n  1/1000 | 1+(t/f) |  1/1000  | \\n999/1000 |    1    | 999/1000 | \\n-----------------------------------------\\n\""
       ]
      }
     ],
     "prompt_number": 1
    },
    {
     "cell_type": "code",
     "collapsed": false,
     "input": [
      "\"\"\"\n",
      "2: Fraternal or Identical Twin\n",
      "\n",
      "F: Elvis is a fraternal twin.\n",
      "I: Elvis is a identical twin.\n",
      "\n",
      "D: Elvis had a brother.\n",
      "\"\"\""
     ],
     "language": "python",
     "metadata": {},
     "outputs": [
      {
       "metadata": {},
       "output_type": "pyout",
       "prompt_number": 2,
       "text": [
        "'\\n2: Fraternal or Identical Twin\\n\\nF: Elvis is a fraternal twin.\\nI: Elvis is a identical twin.\\n\\nD: Elvis had a brother.\\n'"
       ]
      }
     ],
     "prompt_number": 2
    },
    {
     "cell_type": "code",
     "collapsed": false,
     "input": [],
     "language": "python",
     "metadata": {},
     "outputs": []
    }
   ],
   "metadata": {}
  }
 ]
}