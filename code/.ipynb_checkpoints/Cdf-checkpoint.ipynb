{
 "metadata": {
  "name": "",
  "signature": "sha256:803c288902aa7a496cceb948880d3913e34b532fc103a281d7ed1f64530d0cec"
 },
 "nbformat": 3,
 "nbformat_minor": 0,
 "worksheets": []
}